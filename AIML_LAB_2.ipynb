{
  "nbformat": 4,
  "nbformat_minor": 0,
  "metadata": {
    "colab": {
      "provenance": []
    },
    "kernelspec": {
      "name": "python3",
      "display_name": "Python 3"
    },
    "language_info": {
      "name": "python"
    }
  },
  "cells": [
    {
      "cell_type": "code",
      "execution_count": null,
      "metadata": {
        "colab": {
          "base_uri": "https://localhost:8080/"
        },
        "id": "_QWFL5SyG73u",
        "outputId": "50de5ed6-ce51-46e6-8d13-5cfc03ef67e3"
      },
      "outputs": [
        {
          "output_type": "stream",
          "name": "stdout",
          "text": [
            "the adjancy list graphis:\n",
            "{0: [1, 3], 1: [0, 2, 3], 2: [1, 4, 5], 3: [0, 1, 4], 4: [2, 3, 5], 5: [2, 4], 6: []}\n"
          ]
        }
      ],
      "source": [
        "##PART-01\n",
        "import numpy as np\n",
        "from queue import Queue\n",
        "graph={0: [1,3] ,1: [0, 2, 3] ,2: [1,4,5] ,3: [0,1,4],4: [2,3,5],5: [2,4],6: []}\n",
        "print(\"the adjancy list graphis:\")\n",
        "print(graph)"
      ]
    },
    {
      "cell_type": "code",
      "source": [
        "def bfs(graph, source):\n",
        "  q=Queue()\n",
        "  vist=set()\n",
        "  q.put(source)\n",
        "  visit.update({0})\n",
        "  while not q.empty():\n",
        "    vertex=q.get()\n",
        "    print(vertex, end=\"-->\")\n",
        "    for u in graph[vertex]:\n",
        "      if u not in visit:\n",
        "        q.put(u)\n",
        "        visit.update({u})\n",
        "print(\"bfs:\")\n"
      ],
      "metadata": {
        "colab": {
          "base_uri": "https://localhost:8080/"
        },
        "id": "5ulu-ku2L_LT",
        "outputId": "54bd5725-70aa-4642-eada-9306af41e139"
      },
      "execution_count": null,
      "outputs": [
        {
          "output_type": "stream",
          "name": "stdout",
          "text": [
            "bfs:\n"
          ]
        }
      ]
    }
  ]
}